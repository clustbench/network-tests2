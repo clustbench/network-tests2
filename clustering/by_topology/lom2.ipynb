{
 "cells": [
  {
   "cell_type": "code",
   "execution_count": null,
   "metadata": {},
   "outputs": [],
   "source": [
    "import openpyxl  # pip install --user openpyxl\n",
    "import re\n",
    "import itertools\n",
    "import pickle"
   ]
  },
  {
   "cell_type": "markdown",
   "metadata": {},
   "source": [
    "## Code for Extracting Data From Openpyxl Workbook"
   ]
  },
  {
   "cell_type": "markdown",
   "metadata": {},
   "source": [
    "### Helper functions"
   ]
  },
  {
   "cell_type": "code",
   "execution_count": null,
   "metadata": {},
   "outputs": [],
   "source": [
    "def get_column_name(column):\n",
    "    \"\"\"Takes column as tuple as argument and returns\n",
    "    its name as string\"\"\"\n",
    "    return column[0].column"
   ]
  },
  {
   "cell_type": "code",
   "execution_count": null,
   "metadata": {},
   "outputs": [],
   "source": [
    "def extract_columns(worksheet, column_names):\n",
    "    \"\"\"\n",
    "    parameters:\n",
    "        worksheet -- worksheet\n",
    "        column_names -- list of strings, for example\n",
    "            ['A', 'C', 'E']\n",
    "    returns:\n",
    "        list of columns, where every column is represented\n",
    "        as a tuple\"\"\"\n",
    "    all_columns = worksheet.columns\n",
    "    extracted_columns = [col for col in all_columns\n",
    "                         if get_column_name(col) in column_names]\n",
    "    assert len(extracted_columns) == len(column_names)\n",
    "    return extracted_columns"
   ]
  },
  {
   "cell_type": "code",
   "execution_count": null,
   "metadata": {},
   "outputs": [],
   "source": [
    "def columns_to_tuples(columns):\n",
    "    \"\"\"parameters:\n",
    "        columns -- columns as a tuple/list of tuples\n",
    "    returns:\n",
    "        list of lists/tuples, each one represents a row\"\"\"\n",
    "    return [[cell.value for cell in row] for row in zip(*columns)]"
   ]
  },
  {
   "cell_type": "markdown",
   "metadata": {},
   "source": [
    "### Main function"
   ]
  },
  {
   "cell_type": "code",
   "execution_count": null,
   "metadata": {},
   "outputs": [],
   "source": [
    "def parse_switch_pairs(workbook):\n",
    "    \"\"\"Parse openpyxl workbook and extract a list of\n",
    "    pairs of switches. Pair (A, B) means that swithes A\n",
    "    and B are connected.\n",
    "    Returns list of pairs of strings.\"\"\"\n",
    "    return list(itertools.chain(*[columns_to_tuples(extract_columns(worksheet, ['C', 'K']))\n",
    "                        for worksheet in workbook]))"
   ]
  },
  {
   "cell_type": "markdown",
   "metadata": {},
   "source": [
    "### Now we actually do the work"
   ]
  },
  {
   "cell_type": "code",
   "execution_count": null,
   "metadata": {},
   "outputs": [],
   "source": [
    "# path to \"cable journal\" excel file\n",
    "# it's a MS Excel spreadsheet with a list of node connections\n",
    "# in Lomonosov 2 cluster\n",
    "# I am not allowed to share it.\n",
    "SPREADSHEET_FILENAME = r'wire_journal_48_53.xlsx'"
   ]
  },
  {
   "cell_type": "code",
   "execution_count": null,
   "metadata": {},
   "outputs": [],
   "source": [
    "def parse_xslx():\n",
    "    workbook = openpyxl.load_workbook(SPREADSHEET_FILENAME, data_only=True)\n",
    "    switch_pairs = parse_switch_pairs(workbook)\n",
    "    return switch_pairs"
   ]
  },
  {
   "cell_type": "code",
   "execution_count": null,
   "metadata": {},
   "outputs": [],
   "source": [
    "switch_pairs = parse_xslx()"
   ]
  },
  {
   "cell_type": "markdown",
   "metadata": {},
   "source": [
    "## Build 2 big tables: all nodes and all edges"
   ]
  },
  {
   "cell_type": "markdown",
   "metadata": {},
   "source": [
    "## Deconstruct switch names into numbers"
   ]
  },
  {
   "cell_type": "code",
   "execution_count": null,
   "metadata": {},
   "outputs": [],
   "source": [
    "import pandas as pd"
   ]
  },
  {
   "cell_type": "markdown",
   "metadata": {},
   "source": [
    "### Helper functions"
   ]
  },
  {
   "cell_type": "code",
   "execution_count": null,
   "metadata": {},
   "outputs": [],
   "source": [
    "# regex for parsing rack number and other numbers from cells\n",
    "# with switch names in the spreadsheet\n",
    "switch_regex = re.compile(\n",
    "    r\"\"\"\n",
    "    КГК\\.       # literally match what is written here\n",
    "    (?P<rack>\\d+)\\.        # rack number is one or more digits, followed by dot\n",
    "    (?P<second_number>\\d+)\\.            # then goes another non-negative integer followed by dot\n",
    "    (?P<last_number>\\d+)            # and another integer of the same form\n",
    "    \"\"\",\n",
    "    re.VERBOSE)\n",
    "\n",
    "assert switch_regex.match(\"КГК.63.2.4\").groups() == (\"63\", \"2\", \"4\")"
   ]
  },
  {
   "cell_type": "code",
   "execution_count": null,
   "metadata": {},
   "outputs": [],
   "source": [
    "def get_rack(switch_name):\n",
    "    \"\"\"Determines rack number from switch name\"\"\"\n",
    "    return int(switch_regex.match(switch_name).group('rack'))"
   ]
  },
  {
   "cell_type": "code",
   "execution_count": null,
   "metadata": {},
   "outputs": [],
   "source": [
    "def get_second_number(switch_name):\n",
    "    return switch_regex.match(switch_name).groups()[1]"
   ]
  },
  {
   "cell_type": "code",
   "execution_count": null,
   "metadata": {},
   "outputs": [],
   "source": [
    "def get_third_number(switch_name):\n",
    "    return switch_regex.match(switch_name).groups()[2]"
   ]
  },
  {
   "cell_type": "markdown",
   "metadata": {},
   "source": [
    "### Test helper functions"
   ]
  },
  {
   "cell_type": "code",
   "execution_count": null,
   "metadata": {},
   "outputs": [],
   "source": [
    "assert get_rack('КГК.48.0.1') == 48"
   ]
  },
  {
   "cell_type": "markdown",
   "metadata": {},
   "source": [
    "### Do the work"
   ]
  },
  {
   "cell_type": "code",
   "execution_count": null,
   "metadata": {},
   "outputs": [],
   "source": [
    "def deconstruct_switches(switch_pairs):\n",
    "    \"\"\"Builds pandas table with all switches.\n",
    "    Columns:\n",
    "      * name -- e.g. 'КГК.48.0.1'\n",
    "      * rack_number -- e.g. 48\n",
    "      * second_number -- e.g. 0\n",
    "      * third_number -- e.g. 1\n",
    "    \"\"\"\n",
    "    switches = pd.DataFrame({\n",
    "        \"name\": sorted(list(frozenset(itertools.chain(*switch_pairs))))\n",
    "    })\n",
    "    switches[\"rack_number\"] = switches[\"name\"].apply(get_rack)\n",
    "    switches[\"second_number\"] = switches[\"name\"].apply(get_second_number)\n",
    "    switches[\"third_number\"] = switches[\"name\"].apply(get_third_number)\n",
    "    return switches"
   ]
  },
  {
   "cell_type": "code",
   "execution_count": null,
   "metadata": {},
   "outputs": [],
   "source": [
    "switches = deconstruct_switches(switch_pairs)"
   ]
  },
  {
   "cell_type": "markdown",
   "metadata": {},
   "source": [
    "## Build table with switch-to-switch connections"
   ]
  },
  {
   "cell_type": "markdown",
   "metadata": {},
   "source": [
    "### Helper functions"
   ]
  },
  {
   "cell_type": "code",
   "execution_count": null,
   "metadata": {},
   "outputs": [],
   "source": [
    "# Lomonosov2's racks are grouped into pairs\n",
    "# Switches in the same rack or pair of racks are connected with copper wires\n",
    "# Switches in different pairs of racks are connected with optic cable\n",
    "RACK_PAIRS = ((48, 49), (50, 51), (52, 53))"
   ]
  },
  {
   "cell_type": "code",
   "execution_count": null,
   "metadata": {},
   "outputs": [],
   "source": [
    "def determine_material_between_switches(rack1, rack2):\n",
    "    \"\"\"Switches have different material between them.\n",
    "    See comment about RACK_PAIRS.\n",
    "    \n",
    "    This function determines cable material between two switches\n",
    "    by using their rack numbers and returns it as string\"\"\"\n",
    "    racks = (rack1, rack2)\n",
    "    if any(\n",
    "            all(rack in rack_pair for rack in racks)\n",
    "            for rack_pair in RACK_PAIRS):\n",
    "        # they are in the same pair of racks\n",
    "        return 'copper'\n",
    "    return 'optic'"
   ]
  },
  {
   "cell_type": "markdown",
   "metadata": {},
   "source": [
    "### Do work"
   ]
  },
  {
   "cell_type": "code",
   "execution_count": null,
   "metadata": {},
   "outputs": [],
   "source": [
    "def build_switch_to_switch_table(switch_pairs, switches):\n",
    "    return (\n",
    "        # add rack numbers for switch1 column\n",
    "        pd.merge(\n",
    "            # convert list of pairs to DataFrame\n",
    "            pd.DataFrame.from_records(switch_pairs, columns=[\"switch1\", \"switch2\"]),\n",
    "            switches,\n",
    "            left_on=[\"switch1\"], right_on=[\"name\"])\n",
    "        .rename(columns={\"rack_number\": \"switch1_rack\"})\n",
    "        [[\"switch1\", \"switch2\", \"switch1_rack\"]]\n",
    "\n",
    "        # add rack numbers for switch2 column\n",
    "        .merge(\n",
    "            switches,\n",
    "            left_on=[\"switch2\"], right_on=[\"name\"])\n",
    "        .rename(columns={\"rack_number\": \"switch2_rack\"})\n",
    "        [[\"switch1\", \"switch2\", \"switch1_rack\", \"switch2_rack\"]]\n",
    "\n",
    "        # add cable type\n",
    "        .assign(cable_type=lambda df: df.apply(\n",
    "            lambda row: determine_material_between_switches(row[\"switch1_rack\"], row[\"switch2_rack\"]),\n",
    "            axis=1\n",
    "        ))\n",
    "        .drop([\"switch1_rack\", \"switch2_rack\"], axis=1)\n",
    "    )"
   ]
  },
  {
   "cell_type": "code",
   "execution_count": null,
   "metadata": {
    "scrolled": true
   },
   "outputs": [],
   "source": [
    "switch_to_switch = build_switch_to_switch_table(switch_pairs, switches)"
   ]
  },
  {
   "cell_type": "markdown",
   "metadata": {},
   "source": [
    "## Build table with computational-node-to-switch connections"
   ]
  },
  {
   "cell_type": "markdown",
   "metadata": {},
   "source": [
    "### Helper code"
   ]
  },
  {
   "cell_type": "code",
   "execution_count": null,
   "metadata": {},
   "outputs": [],
   "source": [
    "def get_matching_computational_nodes(switch):\n",
    "    \"\"\"params:\n",
    "        switch -- string, name of the switch\n",
    "    returns:\n",
    "        list of strings which are names of computational\n",
    "        nodes connected to this switch\n",
    "    \"\"\"\n",
    "    get_thingie = switch_regex.match(switch).group\n",
    "    return [\n",
    "        'n{0}{1}{2:02d}'.format(\n",
    "            get_thingie('rack'),\n",
    "            get_thingie('second_number'),\n",
    "            (int(get_thingie('last_number')) - 1) * 8 + i\n",
    "        )\n",
    "        for i in range(1, 9)\n",
    "    ]"
   ]
  },
  {
   "cell_type": "markdown",
   "metadata": {},
   "source": [
    "### Test helper code"
   ]
  },
  {
   "cell_type": "code",
   "execution_count": null,
   "metadata": {},
   "outputs": [],
   "source": [
    "assert get_matching_computational_nodes(\"КГК.48.2.3\") == [\n",
    "    'n48217',\n",
    "    'n48218',\n",
    "    'n48219',\n",
    "    'n48220',\n",
    "    'n48221',\n",
    "    'n48222',\n",
    "    'n48223',\n",
    "    'n48224'\n",
    "]"
   ]
  },
  {
   "cell_type": "markdown",
   "metadata": {},
   "source": [
    "### Do work"
   ]
  },
  {
   "cell_type": "code",
   "execution_count": null,
   "metadata": {},
   "outputs": [],
   "source": [
    "def build_comp_to_switch_table(switches):\n",
    "    return pd.concat(\n",
    "        (pd.DataFrame.from_dict({\n",
    "            \"computational_node\": get_matching_computational_nodes(switch),\n",
    "            \"switch\": switch})\n",
    "        for switch in switches[\"name\"]),\n",
    "        ignore_index=True\n",
    "    )"
   ]
  },
  {
   "cell_type": "code",
   "execution_count": null,
   "metadata": {},
   "outputs": [],
   "source": [
    "comp_to_switch = build_comp_to_switch_table(switches)\n",
    "assert len(comp_to_switch) == 1536"
   ]
  },
  {
   "cell_type": "markdown",
   "metadata": {},
   "source": [
    "## Build one of the two main tables: the Nodes table"
   ]
  },
  {
   "cell_type": "code",
   "execution_count": null,
   "metadata": {},
   "outputs": [],
   "source": [
    "def build_nodes_table(switches, comp_to_switch):\n",
    "    table = pd.concat([\n",
    "        switches[[\"name\"]]\n",
    "            .assign(type_=\"switch\"),\n",
    "        comp_to_switch[[\"computational_node\"]]\n",
    "            .rename(columns={\"computational_node\": \"name\"})\n",
    "            .assign(type_=\"computational\")\n",
    "    ])\n",
    "    table[\"type_\"] = table[\"type_\"].astype(\"category\")\n",
    "    return table"
   ]
  },
  {
   "cell_type": "code",
   "execution_count": null,
   "metadata": {},
   "outputs": [],
   "source": [
    "nodes = build_nodes_table(switches, comp_to_switch)"
   ]
  },
  {
   "cell_type": "markdown",
   "metadata": {},
   "source": [
    "## Build the other main table: the Edges table"
   ]
  },
  {
   "cell_type": "code",
   "execution_count": null,
   "metadata": {},
   "outputs": [],
   "source": [
    "def build_edges_table(switch_to_switch, comp_to_switch):\n",
    "    table = pd.concat([\n",
    "        switch_to_switch\n",
    "            .rename(columns={\n",
    "                \"switch1\": \"node1\",\n",
    "                \"switch2\": \"node2\",\n",
    "                \"cable_type\": \"connection_type\"\n",
    "            }),\n",
    "        comp_to_switch\n",
    "            .rename(columns={\n",
    "                \"computational_node\": \"node1\",\n",
    "                \"switch\": \"node2\"\n",
    "            })\n",
    "            .assign(connection_type=\"backplane\")\n",
    "    ])\n",
    "    table[\"connection_type\"] = table[\"connection_type\"].astype(\"category\")\n",
    "    return table"
   ]
  },
  {
   "cell_type": "code",
   "execution_count": null,
   "metadata": {},
   "outputs": [],
   "source": [
    "edges = build_edges_table(switch_to_switch, comp_to_switch)"
   ]
  },
  {
   "cell_type": "markdown",
   "metadata": {},
   "source": [
    "## Build table with only computational nodes\n",
    "\n",
    "We will write it to disk too so that our lomonosov2-agnostic tool\n",
    "knows which nodes are computational. Because it should only\n",
    "build pairs of computational nodes."
   ]
  },
  {
   "cell_type": "code",
   "execution_count": null,
   "metadata": {},
   "outputs": [],
   "source": [
    "# this is a pandas Series of all computational nodes\n",
    "comp_nodes = nodes[nodes[\"type_\"] ==\"computational\"][\"name\"]"
   ]
  },
  {
   "cell_type": "markdown",
   "metadata": {},
   "source": [
    "## Write 3 resulting tables to disk"
   ]
  },
  {
   "cell_type": "code",
   "execution_count": null,
   "metadata": {},
   "outputs": [],
   "source": [
    "for (obj, filename) in (\n",
    "        (nodes, \"cachenodes.pkl\"),\n",
    "        (edges, \"edges.pkl\"),\n",
    "        (comp_nodes, \"comp_nodes.pkl\")):\n",
    "    pd.to_pickle(obj, filename)"
   ]
  }
 ],
 "metadata": {
  "git": {
   "suppress_outputs": true
  },
  "kernelspec": {
   "display_name": "Python 3",
   "language": "python",
   "name": "python3"
  },
  "language_info": {
   "codemirror_mode": {
    "name": "ipython",
    "version": 3
   },
   "file_extension": ".py",
   "mimetype": "text/x-python",
   "name": "python",
   "nbconvert_exporter": "python",
   "pygments_lexer": "ipython3",
   "version": "3.5.3"
  }
 },
 "nbformat": 4,
 "nbformat_minor": 2
}

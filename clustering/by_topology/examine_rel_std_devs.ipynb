{
 "cells": [
  {
   "cell_type": "code",
   "execution_count": null,
   "metadata": {
    "collapsed": true
   },
   "outputs": [],
   "source": [
    "from predict import load_test_results, TestResults\n",
    "from validate import join_dict_to_table\n",
    "import netCDF4\n",
    "from path import Path\n",
    "from IPython.display import display\n",
    "from functools import reduce, partial\n",
    "from scipy.stats.mstats import gmean"
   ]
  },
  {
   "cell_type": "code",
   "execution_count": null,
   "metadata": {
    "collapsed": true
   },
   "outputs": [],
   "source": [
    "TESTS_RESULTS_DIR = \"/home/shibbiry/Dropbox/documents/msu/clust_top/test_results/\""
   ]
  },
  {
   "cell_type": "code",
   "execution_count": null,
   "metadata": {
    "collapsed": true
   },
   "outputs": [],
   "source": [
    "def dataset_to_big_table(test_results: TestResults) -> pd.DataFrame:\n",
    "    \"\"\"\n",
    "    Returns DataFrame with columns:\n",
    "        msg_len, node1, node2, ping_mean, ping_median, ping_std_dev\n",
    "    \"\"\"\n",
    "    tables = (\n",
    "        join_dict_to_table(getattr(test_results, attr)).rename(columns={\"value\": column})\n",
    "        for attr, column in [\n",
    "            (\"medians\", \"ping_median\"),\n",
    "            (\"means\", \"ping_mean\"),\n",
    "            (\"std_dev\", \"ping_std_dev\")\n",
    "        ]\n",
    "    )\n",
    "    return reduce(partial(pd.merge, on=[\"msg_len\", \"node1\", \"node2\"]), tables)                 "
   ]
  },
  {
   "cell_type": "code",
   "execution_count": null,
   "metadata": {
    "collapsed": true
   },
   "outputs": [],
   "source": [
    "datasets = [load_test_results(dir_) for dir_ in Path(TESTS_RESULTS_DIR).dirs()]\n",
    "big_tables = [dataset_to_big_table(dataset) for dataset in datasets]\n",
    "for table in big_tables:\n",
    "    table[\"ping_rel_std_dev\"] = table[\"ping_std_dev\"] / table[\"ping_mean\"]\n",
    "\n",
    "ping_rel_std_dev_geometric_means = pd.DataFrame(\n",
    "    (gmean(table[\"ping_rel_std_dev\"].dropna()) for table in big_tables),\n",
    "    columns=[\"geom_mean_of_ping_rel_std_dev\"]\n",
    ") \\\n",
    "    .assign(name=[dataset.name for dataset in datasets])"
   ]
  },
  {
   "cell_type": "code",
   "execution_count": null,
   "metadata": {
    "collapsed": true
   },
   "outputs": [],
   "source": [
    "ping_rel_std_dev_geometric_means"
   ]
  },
  {
   "cell_type": "code",
   "execution_count": null,
   "metadata": {
    "collapsed": true
   },
   "outputs": [],
   "source": [
    "print(ping_rel_std_dev_geometric_means.set_index(\"name\").sort_index().to_latex())"
   ]
  }
 ],
 "metadata": {
  "git": {
   "suppress_outputs": true
  },
  "kernelspec": {
   "display_name": "Python 3",
   "language": "python",
   "name": "python3"
  },
  "language_info": {
   "codemirror_mode": {
    "name": "ipython",
    "version": 3
   },
   "file_extension": ".py",
   "mimetype": "text/x-python",
   "name": "python",
   "nbconvert_exporter": "python",
   "pygments_lexer": "ipython3",
   "version": "3.5.3"
  }
 },
 "nbformat": 4,
 "nbformat_minor": 2
}

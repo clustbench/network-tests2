{
 "cells": [
  {
   "cell_type": "code",
   "execution_count": 1,
   "metadata": {
    "collapsed": true
   },
   "outputs": [],
   "source": [
    "import pandas as pd\n",
    "import numpy as np\n",
    "from path import Path  # pip install --user path.py\n",
    "import re\n",
    "from IPython.display import display\n",
    "from pprint import pprint\n",
    "import netCDF4\n",
    "from IPython.core.debugger import Pdb\n",
    "from collections import namedtuple"
   ]
  },
  {
   "cell_type": "code",
   "execution_count": 2,
   "metadata": {
    "collapsed": true
   },
   "outputs": [],
   "source": [
    "TEST_RESULT_DIRECTORIES = Path(\"/home/shibbiry/Dropbox/documents/msu/bachelors_thesis_cluster_topology/test_results\") \\\n",
    "    .dirs()"
   ]
  },
  {
   "cell_type": "code",
   "execution_count": 4,
   "metadata": {},
   "outputs": [
    {
     "data": {
      "text/plain": [
       "[Path('/home/shibbiry/Dropbox/documents/msu/bachelors_thesis_cluster_topology/test_results/2016-11-04-lom2_100_nodes'),\n",
       " Path('/home/shibbiry/Dropbox/documents/msu/bachelors_thesis_cluster_topology/test_results/2016-02-10__110_nodes'),\n",
       " Path('/home/shibbiry/Dropbox/documents/msu/bachelors_thesis_cluster_topology/test_results/2017-02-12__118_nodes'),\n",
       " Path('/home/shibbiry/Dropbox/documents/msu/bachelors_thesis_cluster_topology/test_results/2017-02-10__110_nodes')]"
      ]
     },
     "metadata": {},
     "output_type": "display_data"
    }
   ],
   "source": [
    "display(TEST_RESULT_DIRECTORIES)"
   ]
  },
  {
   "cell_type": "code",
   "execution_count": 5,
   "metadata": {
    "collapsed": true
   },
   "outputs": [],
   "source": [
    "def read_benchmark_hostnames(path_to_file):\n",
    "    lines = path_to_file.lines()\n",
    "    return (re.match(r\"^(n\\d{5})\\.\", line).groups()[0] for line in lines)"
   ]
  },
  {
   "cell_type": "code",
   "execution_count": 6,
   "metadata": {
    "collapsed": true
   },
   "outputs": [],
   "source": [
    "TestResults = namedtuple(\"TestResults\", [\"hostnames\", \"medians\", \"msg_lengths\"])"
   ]
  },
  {
   "cell_type": "code",
   "execution_count": 7,
   "metadata": {
    "collapsed": true
   },
   "outputs": [],
   "source": [
    "def import_data(directory):\n",
    "    hostnames = tuple(read_benchmark_hostnames(directory.joinpath(\"network_hosts.txt\")))\n",
    "    with netCDF4.Dataset(directory.joinpath(\"network_median.nc\"), \"r\")  as dataset:\n",
    "        step_len = dataset[\"step_length\"][0]\n",
    "        start_len = dataset[\"begin_mes_length\"][0]\n",
    "        end_len = dataset[\"end_mes_length\"][0]\n",
    "        \n",
    "        assert len(hostnames) == dataset[\"proc_num\"][0]\n",
    "        assert dataset[\"test_type\"][0] == 1\n",
    "        assert start_len == 0\n",
    "        assert end_len == 10000  # last message length should be 9900\n",
    "        assert step_len == 100\n",
    "        steps = (end_len - start_len) // step_len - 1\n",
    "        assert start_len + (steps + 1) * step_len == end_len\n",
    "        \n",
    "        lengths = range(start_len, end_len, step_len)\n",
    "        \n",
    "        data = {\n",
    "            \"message_len_{0}\".format(length): \\\n",
    "                pd.DataFrame(dataset[\"data\"][index], index=hostnames, columns=hostnames)\n",
    "            for (index, length) in enumerate(lengths)\n",
    "        }\n",
    "        panel = pd.Panel(data)\n",
    "    return TestResults(hostnames=hostnames, medians=panel, msg_lengths=list(lengths))"
   ]
  },
  {
   "cell_type": "code",
   "execution_count": 8,
   "metadata": {
    "collapsed": true
   },
   "outputs": [],
   "source": [
    "def uniques_in_matrix(matrix):\n",
    "    return frozenset(matrix[col].loc[row] for col in matrix.columns for row in matrix.index)"
   ]
  },
  {
   "cell_type": "code",
   "execution_count": 9,
   "metadata": {
    "collapsed": true
   },
   "outputs": [],
   "source": [
    "# tests for the previous function\n",
    "def test_uniques_in_matrix():\n",
    "    uniques1 = uniques_in_matrix(\n",
    "        pd.DataFrame([[1, 2, 3], [4, 5, 6], [7, 8, 9]], columns=[\"c1\", \"c2\", \"c3\"], index=[\"i1\", \"i2\", \"i3\"])\n",
    "    )\n",
    "    assert frozenset({1, 2, 3, 4, 5, 6, 7, 8, 9}) == uniques1\n",
    "    \n",
    "    uniques2 = uniques_in_matrix(\n",
    "        pd.DataFrame([[1, 2, 3], [4, 5, 6], [7, 8, 9]], columns=[\"i1\", \"i2\", \"i3\"], index=[\"i1\", \"i2\", \"i3\"])\n",
    "    )\n",
    "    assert uniques2 == uniques1"
   ]
  },
  {
   "cell_type": "code",
   "execution_count": 10,
   "metadata": {
    "collapsed": true
   },
   "outputs": [],
   "source": [
    "test_uniques_in_matrix()"
   ]
  },
  {
   "cell_type": "code",
   "execution_count": 11,
   "metadata": {
    "collapsed": true
   },
   "outputs": [],
   "source": [
    "def count_unique_medians(medians):\n",
    "    uniques_counts = [len(uniques_in_matrix(medians.iloc[i])) for i in range(len(medians))]\n",
    "    ind_with_min_count, min_count = min(enumerate(uniques_counts), key=lambda pair: pair[1])\n",
    "    ind_with_max_count, max_count = max(enumerate(uniques_counts), key=lambda pair: pair[1])\n",
    "    print(\n",
    "        \"Minimum number of unique values in matrix is {0}. Message length = {1}.\"\n",
    "            .format(min_count, medians.keys()[ind_with_min_count])\n",
    "    )\n",
    "    print(\n",
    "        \"Maximum number of unique values in matrix is {0}. Message length = {1}.\"\n",
    "            .format(max_count, medians.keys()[ind_with_max_count])\n",
    "    )"
   ]
  },
  {
   "cell_type": "code",
   "execution_count": 12,
   "metadata": {},
   "outputs": [
    {
     "name": "stdout",
     "output_type": "stream",
     "text": [
      "2016-11-04-lom2_100_nodes\n",
      "Minimum number of unique values in matrix is 5. Message length = message_len_600.\n",
      "Maximum number of unique values in matrix is 38. Message length = message_len_6200.\n",
      "2016-02-10__110_nodes\n",
      "Minimum number of unique values in matrix is 15. Message length = message_len_8000.\n",
      "Maximum number of unique values in matrix is 31. Message length = message_len_4100.\n",
      "2017-02-12__118_nodes\n",
      "Minimum number of unique values in matrix is 8. Message length = message_len_100.\n",
      "Maximum number of unique values in matrix is 18. Message length = message_len_5000.\n",
      "2017-02-10__110_nodes\n",
      "Minimum number of unique values in matrix is 15. Message length = message_len_8000.\n",
      "Maximum number of unique values in matrix is 31. Message length = message_len_4100.\n"
     ]
    }
   ],
   "source": [
    "for directory in TEST_RESULT_DIRECTORIES:\n",
    "    medians = import_data(directory).medians\n",
    "    print(directory.basename())\n",
    "    count_unique_medians(medians)"
   ]
  }
 ],
 "metadata": {
  "kernelspec": {
   "display_name": "Python 3",
   "language": "python",
   "name": "python3"
  },
  "language_info": {
   "codemirror_mode": {
    "name": "ipython",
    "version": 3
   },
   "file_extension": ".py",
   "mimetype": "text/x-python",
   "name": "python",
   "nbconvert_exporter": "python",
   "pygments_lexer": "ipython3",
   "version": "3.6.1"
  }
 },
 "nbformat": 4,
 "nbformat_minor": 2
}
